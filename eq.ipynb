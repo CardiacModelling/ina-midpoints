{
 "cells": [
  {
   "cell_type": "markdown",
   "id": "d60562d3",
   "metadata": {},
   "source": [
    "# Equations\n",
    "\n",
    "The N experiments reporting both activation and inactivation:\n",
    "- $\\mu_{aj}$ and $\\sigma_{aj}$ where $j = 1, 2, ..., N$\n",
    "- $\\mu_{ij}$ and $\\sigma_{ij}$ where $j = 1, 2, ..., N$\n",
    "For clarity, omitting index $j$ where possible."
   ]
  },
  {
   "cell_type": "markdown",
   "id": "343a1ec4",
   "metadata": {},
   "source": [
    "## Projection along best fit line\n",
    "\n",
    "Best-fit line:\n",
    "\n",
    "\\begin{align}\n",
    "v_i = a + bv_a\n",
    "\\end{align}"
   ]
  },
  {
   "cell_type": "markdown",
   "id": "e0d1e5c4",
   "metadata": {},
   "source": [
    "Mean (of means):\n",
    "\\begin{align}\n",
    "\\bar{\\mu}_a &= \\frac{1}{N}\\sum \\mu_a \\\\\n",
    "\\bar{\\mu}_i &= \\frac{1}{N}\\sum \\mu_i\n",
    "\\end{align}\n",
    "\n",
    "Mean-centered points:\n",
    "\\begin{align}\n",
    "x &= \\mu_a - \\bar{\\mu}_a \\\\\n",
    "y &= \\mu_i - \\bar{\\mu}_i\n",
    "\\end{align}"
   ]
  },
  {
   "cell_type": "markdown",
   "id": "bcdbca73",
   "metadata": {},
   "source": [
    "Best-fit line through mean-centered points:\n",
    "\n",
    "\\begin{align}\n",
    "y = bx\n",
    "\\end{align}"
   ]
  },
  {
   "cell_type": "markdown",
   "id": "5259f319",
   "metadata": {},
   "source": [
    "Projection and orthogonal vector (\"rejection\"):\n",
    "\n",
    "\\begin{align}\n",
    "\\textbf{p}_1 = \\frac{x + by}{1 + b^2} \\begin{bmatrix}1\\\\b\\end{bmatrix}\n",
    "\\end{align}\n",
    "\n",
    "\\begin{align}\n",
    "\\textbf{p}_2 = \\frac{y - bx}{1 + b^2} \\begin{bmatrix}-b\\\\1\\end{bmatrix}\n",
    "\\end{align}\n"
   ]
  },
  {
   "cell_type": "markdown",
   "id": "1fceb7fb",
   "metadata": {},
   "source": [
    "Magnitude of $\\textbf{p}_1$ and $\\textbf{p}_2$:\n",
    "\n",
    "\\begin{align}\n",
    "\\|\\textbf{p}_1\\| = \\sqrt{\\frac{(x + by)^2(1 + b^2)}{(1 + b^2)^2}} = \\sqrt{\\frac{(x + by)^2}{1 + b^2}}\n",
    "\\end{align}\n",
    "\n",
    "\\begin{align}\n",
    "\\|\\textbf{p}_2\\| = \\sqrt{\\frac{(y - bx)^2(1 + b^2)}{(1 + b^2)^2}} = \\sqrt{\\frac{(y - bx)^2}{1 + b^2}}\n",
    "\\end{align}\n",
    "\n",
    "The square root has two solutions. To get directional \"principal components\" we pick our favourites:\n",
    "\n",
    "\\begin{align}\n",
    "d_1 \\equiv \\frac{x + by}{\\sqrt{1 + b^2}} &&\n",
    "d_2 \\equiv \\frac{y - bx}{\\sqrt{1 + b^2}}\n",
    "\\end{align}"
   ]
  },
  {
   "cell_type": "markdown",
   "id": "50e531c2",
   "metadata": {},
   "source": [
    "### Is that right?\n",
    "\n",
    "We can check this by comparing the (square of the) length $\\|d_1, d_2\\|$ with $\\|x, y\\|$:\n",
    "\n",
    "\\begin{align}\n",
    "d_1^2 + d_2^2 \n",
    "    &= \\frac{(x + by)^2+(y - bx)^2}{1 + b^2} \\\\\n",
    "    &= \\frac{x^2 + b^2y^2 + 2bxy + y^2 + b^2x^2 - 2bxy}{1 + b^2} \\\\\n",
    "    &= \\frac{(x^2 + y^2)(1 + b^2)}{1 + b^2} = x^2 + y^2\n",
    "\\end{align}"
   ]
  },
  {
   "cell_type": "markdown",
   "id": "0bd3afb4",
   "metadata": {},
   "source": [
    "### Approximation $b \\approx 1$\n",
    "\n",
    "\\begin{align}\n",
    "d_1 = \\frac{x + y}{\\sqrt{2}} &&\n",
    "d_2 = \\frac{y - x}{\\sqrt{2}}\n",
    "\\end{align}\n"
   ]
  },
  {
   "cell_type": "markdown",
   "id": "7f6b201e",
   "metadata": {},
   "source": [
    "## Statistical model\n",
    "\n",
    "The values within an experiment are given by\n",
    "\\begin{align}\n",
    "V_{aj} \\sim \\mathcal{D}(\\mu_{aj}, \\sigma_{aj}) &= V_a + \\Delta_j + \\Delta_{aj} + \\mathcal{D}(0, \\sigma_{aj}^2) \\\\\n",
    "V_{ij} \\sim \\mathcal{D}(\\mu_{ij}, \\sigma_{ij}) &= V_i + \\Delta_j + \\Delta_{ij} + \\mathcal{D}(0, \\sigma_{ij}^2)\n",
    "\\end{align}\n",
    "\n",
    "where $\\Delta_j$ is a shift affecting both parameters in experiment $j$, where $\\Delta_{aj}$ and $\\Delta_{ij}$ are shifts affecting activation and inactivation separately, and where $\\mathcal{D}$ is some unknown distribution with mean zero.\n",
    "\n",
    "\n",
    "\\begin{align}\n",
    "\\Delta_j    &\\sim \\mathcal{D}(0, \\sigma_{\\Delta}^2) \\\\\n",
    "\\Delta_{aj} &\\sim \\mathcal{D}(0, \\sigma_{\\Delta_a}^2) \\\\\n",
    "\\Delta_{ij} &\\sim \\mathcal{D}(0, \\sigma_{\\Delta_j}^2)\n",
    "\\end{align}\n",
    "\n",
    "**Having $\\Delta$, $\\Delta_a$, and $\\Delta_j$ instead of 2 variables is unidentifiable by default, but it feels a bit unfair to blame only one of the variables by making one a random function of the other, so leaving it like this until we get past the conceptual part.**"
   ]
  },
  {
   "cell_type": "markdown",
   "id": "486837c0",
   "metadata": {},
   "source": [
    "The \"true\" values of the midpoints of activation and inactivations are $V_a$ and $V_i$.\n",
    "\n",
    "Focussing only on the means, and approximating the true values with the mean-of-means:\n",
    "\n",
    "\\begin{align}\n",
    "\\mu_a &= \\bar{\\mu}_a + \\Delta + \\Delta_a \\\\\n",
    "\\mu_i &= \\bar{\\mu}_i + \\Delta + \\Delta_i\n",
    "\\end{align}"
   ]
  },
  {
   "cell_type": "markdown",
   "id": "beb1a719",
   "metadata": {},
   "source": [
    "### Relationship to principal components\n",
    "\n",
    "\\begin{align}\n",
    "d_1 = \\frac{x + y}{\\sqrt{2}} = \\frac{2 \\Delta + \\Delta_a +\\Delta_i}{\\sqrt{2}}\n",
    "\\end{align}\n",
    "\n",
    "\\begin{align}\n",
    "d_2 = \\frac{\\Delta_i - \\Delta_a}{\\sqrt{2}}\n",
    "\\end{align}\n",
    "\n",
    "To reduce it to two variables, we can write\n",
    "\n",
    "\\begin{align}\n",
    "d_1 = \\frac{2(\\Delta + \\Delta_a) + (\\Delta_i - \\Delta_a)}{\\sqrt{2}} &= X + Y \\\\\n",
    "d_2 = \\frac{\\Delta_i - \\Delta_a}{\\sqrt{2}} &= Y\n",
    "\\end{align}\n",
    "\n",
    "But instead, lets assume normal distributions and go\n",
    "\n",
    "\\begin{align}\n",
    "d_1 &\\sim \\mathcal{N}(0, 2 \\sigma_\\Delta^2) + \\mathcal{N}(0, \\sigma_a^2 + \\sigma_i^2) = \\mathcal{N}(0, 2 \\sigma_\\Delta^2 + \\sigma_{\\Delta_a}^2 + \\sigma_{\\Delta_i}^2)\\\\\n",
    "d_2 &\\sim \\mathcal{N}(0, \\sigma_{\\Delta_a}^2 + \\sigma_{\\Delta_i}^2)\n",
    "\\end{align}\n",
    "\n",
    "**Forgot about the sqrt 2 here. Might help get rid of the counterintuitive 2 in the next equations**"
   ]
  },
  {
   "cell_type": "markdown",
   "id": "126a4a0c",
   "metadata": {},
   "source": [
    "#### Approximation: $\\sigma_{\\Delta_a}^2 = \\sigma_{\\Delta_i}^2$\n",
    "\n",
    "\\begin{align}\n",
    "d_1 &\\sim \\mathcal{N}(0, 2\\sigma_\\Delta^2 + 2\\sigma_{\\Delta_a}^2) \\\\\n",
    "d_2 &\\sim \\mathcal{N}(0, 2\\sigma_{\\Delta_a}^2)\n",
    "\\end{align}"
   ]
  },
  {
   "cell_type": "markdown",
   "id": "d12e310f",
   "metadata": {},
   "source": [
    "\n",
    "\n",
    "\n",
    "\\begin{align}\n",
    "\\end{align}\n",
    "\\begin{align}\n",
    "\\end{align}\n",
    "\\begin{align}\n",
    "\\end{align}\n",
    "\\begin{align}\n",
    "\\end{align}\n",
    "\\begin{align}\n",
    "\\end{align}\n",
    "\\begin{align}\n",
    "\\end{align}\n",
    "\\begin{align}\n",
    "\\end{align}\n",
    "\\begin{align}\n",
    "\\end{align}\n",
    "\\begin{align}\n",
    "\\end{align}\n",
    "\\begin{align}\n",
    "\\end{align}\n",
    "\\begin{align}\n",
    "\\end{align}\n",
    "\\begin{align}\n",
    "\\end{align}\n",
    "\\begin{align}\n",
    "\\end{align}\n",
    "\\begin{align}\n",
    "\\end{align}\n",
    "\\begin{align}\n",
    "\\end{align}\n",
    "\\begin{align}\n",
    "\\end{align}\n",
    "\\begin{align}\n",
    "\\end{align}\n",
    "\\begin{align}\n",
    "\\end{align}\n",
    "\\begin{align}\n",
    "\\end{align}\n",
    "\\begin{align}\n",
    "\\end{align}\n",
    "\\begin{align}\n",
    "\\end{align}\n"
   ]
  },
  {
   "cell_type": "code",
   "execution_count": null,
   "id": "e4d2069f",
   "metadata": {},
   "outputs": [],
   "source": []
  },
  {
   "cell_type": "markdown",
   "id": "2af6870e",
   "metadata": {},
   "source": [
    "## Extra\n",
    "\n",
    "### Solving for a\n",
    "\n",
    "\\begin{align}\n",
    "\\mu_i - \\bar{\\mu}_i &= b(\\mu_a - \\bar{\\mu}_a) \\\\\n",
    "\\mu_i &= (\\bar{\\mu}_i - b \\bar{\\mu}_a) + b \\mu_a \\\\\n",
    "      &= a + b \\mu_a \\\\\n",
    "a     &= \\bar{\\mu}_i - b \\bar{\\mu}_a\n",
    "\\end{align}\n",
    "\n",
    "### How do we attribute factors to $\\Delta, \\Delta_a, \\Delta_j, \\sigma_a, \\sigma_j$ ?\n",
    "\n",
    "Different factors will be spread over the five statistical parameters differently.\n",
    "We could make complicated models for that, but only if we knew all experimental procedures exactly.\n",
    "\n",
    "The hardest one is probably time.\n",
    "Say we need 5 minutes to set up, then 1-3 minutes to run an activation protocol (we might need to restart etc), then 1-3 minutes to run an inactivation protocol.\n",
    "We might try encoding this as saying $\\Delta$ incurs the 5 minutes, $\\sigma_a$ some function of 2 minutes, $\\Delta_i$ the 1 minute it takes to do activation _at minimum_, and $\\sigma_i$ some function of 2 minutes _and_ some dependency on the activation experiment time...\n",
    "It all gets complicated and depends on data we don't have (and can't get).\n",
    "So let's not bother too much and see what we can do."
   ]
  }
 ],
 "metadata": {
  "kernelspec": {
   "display_name": "Python 3 (ipykernel)",
   "language": "python",
   "name": "python3"
  },
  "language_info": {
   "codemirror_mode": {
    "name": "ipython",
    "version": 3
   },
   "file_extension": ".py",
   "mimetype": "text/x-python",
   "name": "python",
   "nbconvert_exporter": "python",
   "pygments_lexer": "ipython3",
   "version": "3.11.6"
  }
 },
 "nbformat": 4,
 "nbformat_minor": 5
}
